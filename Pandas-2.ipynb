{
 "cells": [
  {
   "cell_type": "markdown",
   "id": "4b35578b",
   "metadata": {},
   "source": [
    "## Pandas数据分析处理库-2"
   ]
  },
  {
   "cell_type": "markdown",
   "id": "0d7c6499",
   "metadata": {},
   "source": [
    "## 数据透视表"
   ]
  },
  {
   "cell_type": "code",
   "execution_count": null,
   "id": "cd069484",
   "metadata": {},
   "outputs": [],
   "source": [
    "#多变量之间的关系"
   ]
  },
  {
   "cell_type": "markdown",
   "id": "1f87cc2e",
   "metadata": {},
   "source": [
    "## 程序有问题，没有执行出来"
   ]
  },
  {
   "cell_type": "code",
   "execution_count": null,
   "id": "4758aab6",
   "metadata": {},
   "outputs": [],
   "source": [
    "import pandas as pd\n",
    "df = pd.read_csv('D:/Temp/BI.LAB3/ansett.csv')\n",
    "df"
   ]
  },
  {
   "cell_type": "code",
   "execution_count": null,
   "id": "2f722a72",
   "metadata": {},
   "outputs": [],
   "source": [
    "df_pivot = df.pivot(index='Week',columns='Airports',values='Passengers')#统计一个指标并且按照什么方式去统计\n",
    "df_pivot"
   ]
  },
  {
   "cell_type": "code",
   "execution_count": null,
   "id": "36bb774b",
   "metadata": {},
   "outputs": [],
   "source": [
    "df_pivot.sum(axis = 1)#算行总和"
   ]
  },
  {
   "cell_type": "code",
   "execution_count": null,
   "id": "1b243c4f",
   "metadata": {},
   "outputs": [],
   "source": [
    "df_pivot.sum(axis = 0)#算列总和"
   ]
  },
  {
   "cell_type": "markdown",
   "id": "765ca6d6",
   "metadata": {},
   "source": [
    "## 可以执行出来"
   ]
  },
  {
   "cell_type": "code",
   "execution_count": 1,
   "id": "51aaa809",
   "metadata": {},
   "outputs": [
    {
     "data": {
      "text/html": [
       "<div>\n",
       "<style scoped>\n",
       "    .dataframe tbody tr th:only-of-type {\n",
       "        vertical-align: middle;\n",
       "    }\n",
       "\n",
       "    .dataframe tbody tr th {\n",
       "        vertical-align: top;\n",
       "    }\n",
       "\n",
       "    .dataframe thead th {\n",
       "        text-align: right;\n",
       "    }\n",
       "</style>\n",
       "<table border=\"1\" class=\"dataframe\">\n",
       "  <thead>\n",
       "    <tr style=\"text-align: right;\">\n",
       "      <th></th>\n",
       "      <th>Week</th>\n",
       "      <th>Airports</th>\n",
       "      <th>Class</th>\n",
       "      <th>Passengers</th>\n",
       "    </tr>\n",
       "  </thead>\n",
       "  <tbody>\n",
       "    <tr>\n",
       "      <th>0</th>\n",
       "      <td>1989 W28</td>\n",
       "      <td>ADL-PER</td>\n",
       "      <td>Business</td>\n",
       "      <td>193</td>\n",
       "    </tr>\n",
       "    <tr>\n",
       "      <th>1</th>\n",
       "      <td>1989 W29</td>\n",
       "      <td>ADL-PER</td>\n",
       "      <td>Business</td>\n",
       "      <td>254</td>\n",
       "    </tr>\n",
       "    <tr>\n",
       "      <th>2</th>\n",
       "      <td>1989 W30</td>\n",
       "      <td>ADL-PER</td>\n",
       "      <td>Business</td>\n",
       "      <td>185</td>\n",
       "    </tr>\n",
       "    <tr>\n",
       "      <th>3</th>\n",
       "      <td>1989 W31</td>\n",
       "      <td>ADL-PER</td>\n",
       "      <td>Business</td>\n",
       "      <td>254</td>\n",
       "    </tr>\n",
       "    <tr>\n",
       "      <th>4</th>\n",
       "      <td>1989 W32</td>\n",
       "      <td>ADL-PER</td>\n",
       "      <td>Business</td>\n",
       "      <td>191</td>\n",
       "    </tr>\n",
       "    <tr>\n",
       "      <th>...</th>\n",
       "      <td>...</td>\n",
       "      <td>...</td>\n",
       "      <td>...</td>\n",
       "      <td>...</td>\n",
       "    </tr>\n",
       "    <tr>\n",
       "      <th>7402</th>\n",
       "      <td>1992 W43</td>\n",
       "      <td>SYD-PER</td>\n",
       "      <td>First</td>\n",
       "      <td>203</td>\n",
       "    </tr>\n",
       "    <tr>\n",
       "      <th>7403</th>\n",
       "      <td>1992 W44</td>\n",
       "      <td>SYD-PER</td>\n",
       "      <td>First</td>\n",
       "      <td>137</td>\n",
       "    </tr>\n",
       "    <tr>\n",
       "      <th>7404</th>\n",
       "      <td>1992 W45</td>\n",
       "      <td>SYD-PER</td>\n",
       "      <td>First</td>\n",
       "      <td>161</td>\n",
       "    </tr>\n",
       "    <tr>\n",
       "      <th>7405</th>\n",
       "      <td>1992 W46</td>\n",
       "      <td>SYD-PER</td>\n",
       "      <td>First</td>\n",
       "      <td>155</td>\n",
       "    </tr>\n",
       "    <tr>\n",
       "      <th>7406</th>\n",
       "      <td>1992 W47</td>\n",
       "      <td>SYD-PER</td>\n",
       "      <td>First</td>\n",
       "      <td>188</td>\n",
       "    </tr>\n",
       "  </tbody>\n",
       "</table>\n",
       "<p>7407 rows × 4 columns</p>\n",
       "</div>"
      ],
      "text/plain": [
       "          Week Airports     Class  Passengers\n",
       "0     1989 W28  ADL-PER  Business         193\n",
       "1     1989 W29  ADL-PER  Business         254\n",
       "2     1989 W30  ADL-PER  Business         185\n",
       "3     1989 W31  ADL-PER  Business         254\n",
       "4     1989 W32  ADL-PER  Business         191\n",
       "...        ...      ...       ...         ...\n",
       "7402  1992 W43  SYD-PER     First         203\n",
       "7403  1992 W44  SYD-PER     First         137\n",
       "7404  1992 W45  SYD-PER     First         161\n",
       "7405  1992 W46  SYD-PER     First         155\n",
       "7406  1992 W47  SYD-PER     First         188\n",
       "\n",
       "[7407 rows x 4 columns]"
      ]
     },
     "execution_count": 1,
     "metadata": {},
     "output_type": "execute_result"
    }
   ],
   "source": [
    "import pandas as pd\n",
    "df = pd.read_csv('D:/Temp/BI.LAB3/ansett.csv')\n",
    "df"
   ]
  },
  {
   "cell_type": "code",
   "execution_count": 2,
   "id": "e09c0362",
   "metadata": {},
   "outputs": [
    {
     "data": {
      "text/html": [
       "<div>\n",
       "<style scoped>\n",
       "    .dataframe tbody tr th:only-of-type {\n",
       "        vertical-align: middle;\n",
       "    }\n",
       "\n",
       "    .dataframe tbody tr th {\n",
       "        vertical-align: top;\n",
       "    }\n",
       "\n",
       "    .dataframe thead th {\n",
       "        text-align: right;\n",
       "    }\n",
       "</style>\n",
       "<table border=\"1\" class=\"dataframe\">\n",
       "  <thead>\n",
       "    <tr style=\"text-align: right;\">\n",
       "      <th></th>\n",
       "      <th>Week</th>\n",
       "      <th>Airports</th>\n",
       "      <th>Class</th>\n",
       "      <th>Passengers</th>\n",
       "    </tr>\n",
       "  </thead>\n",
       "  <tbody>\n",
       "    <tr>\n",
       "      <th>0</th>\n",
       "      <td>1989 W28</td>\n",
       "      <td>ADL-PER</td>\n",
       "      <td>Business</td>\n",
       "      <td>193</td>\n",
       "    </tr>\n",
       "    <tr>\n",
       "      <th>1</th>\n",
       "      <td>1989 W29</td>\n",
       "      <td>ADL-PER</td>\n",
       "      <td>Business</td>\n",
       "      <td>254</td>\n",
       "    </tr>\n",
       "    <tr>\n",
       "      <th>2</th>\n",
       "      <td>1989 W30</td>\n",
       "      <td>ADL-PER</td>\n",
       "      <td>Business</td>\n",
       "      <td>185</td>\n",
       "    </tr>\n",
       "    <tr>\n",
       "      <th>3</th>\n",
       "      <td>1989 W31</td>\n",
       "      <td>ADL-PER</td>\n",
       "      <td>Business</td>\n",
       "      <td>254</td>\n",
       "    </tr>\n",
       "    <tr>\n",
       "      <th>4</th>\n",
       "      <td>1989 W32</td>\n",
       "      <td>ADL-PER</td>\n",
       "      <td>Business</td>\n",
       "      <td>191</td>\n",
       "    </tr>\n",
       "  </tbody>\n",
       "</table>\n",
       "</div>"
      ],
      "text/plain": [
       "       Week Airports     Class  Passengers\n",
       "0  1989 W28  ADL-PER  Business         193\n",
       "1  1989 W29  ADL-PER  Business         254\n",
       "2  1989 W30  ADL-PER  Business         185\n",
       "3  1989 W31  ADL-PER  Business         254\n",
       "4  1989 W32  ADL-PER  Business         191"
      ]
     },
     "execution_count": 2,
     "metadata": {},
     "output_type": "execute_result"
    }
   ],
   "source": [
    "df.head()"
   ]
  },
  {
   "cell_type": "code",
   "execution_count": 3,
   "id": "319172b0",
   "metadata": {},
   "outputs": [
    {
     "data": {
      "text/html": [
       "<div>\n",
       "<style scoped>\n",
       "    .dataframe tbody tr th:only-of-type {\n",
       "        vertical-align: middle;\n",
       "    }\n",
       "\n",
       "    .dataframe tbody tr th {\n",
       "        vertical-align: top;\n",
       "    }\n",
       "\n",
       "    .dataframe thead th {\n",
       "        text-align: right;\n",
       "    }\n",
       "</style>\n",
       "<table border=\"1\" class=\"dataframe\">\n",
       "  <thead>\n",
       "    <tr style=\"text-align: right;\">\n",
       "      <th>Airports</th>\n",
       "      <th>ADL-PER</th>\n",
       "      <th>MEL-ADL</th>\n",
       "      <th>MEL-BNE</th>\n",
       "      <th>MEL-OOL</th>\n",
       "      <th>MEL-PER</th>\n",
       "      <th>MEL-SYD</th>\n",
       "      <th>SYD-ADL</th>\n",
       "      <th>SYD-BNE</th>\n",
       "      <th>SYD-OOL</th>\n",
       "      <th>SYD-PER</th>\n",
       "    </tr>\n",
       "    <tr>\n",
       "      <th>Class</th>\n",
       "      <th></th>\n",
       "      <th></th>\n",
       "      <th></th>\n",
       "      <th></th>\n",
       "      <th></th>\n",
       "      <th></th>\n",
       "      <th></th>\n",
       "      <th></th>\n",
       "      <th></th>\n",
       "      <th></th>\n",
       "    </tr>\n",
       "  </thead>\n",
       "  <tbody>\n",
       "    <tr>\n",
       "      <th>Business</th>\n",
       "      <td>262.681818</td>\n",
       "      <td>570.232955</td>\n",
       "      <td>374.681818</td>\n",
       "      <td>53.537143</td>\n",
       "      <td>443.039773</td>\n",
       "      <td>2213.136364</td>\n",
       "      <td>465.193182</td>\n",
       "      <td>1025.420455</td>\n",
       "      <td>172.539773</td>\n",
       "      <td>371.514286</td>\n",
       "    </tr>\n",
       "    <tr>\n",
       "      <th>Economy</th>\n",
       "      <td>2042.879859</td>\n",
       "      <td>7359.328622</td>\n",
       "      <td>5011.198582</td>\n",
       "      <td>2110.216312</td>\n",
       "      <td>4127.208481</td>\n",
       "      <td>21508.500000</td>\n",
       "      <td>4507.342756</td>\n",
       "      <td>14222.496454</td>\n",
       "      <td>3946.797872</td>\n",
       "      <td>2928.946996</td>\n",
       "    </tr>\n",
       "    <tr>\n",
       "      <th>First</th>\n",
       "      <td>144.035336</td>\n",
       "      <td>363.162544</td>\n",
       "      <td>224.521277</td>\n",
       "      <td>51.273050</td>\n",
       "      <td>263.657244</td>\n",
       "      <td>1461.560284</td>\n",
       "      <td>283.554770</td>\n",
       "      <td>759.053191</td>\n",
       "      <td>153.581560</td>\n",
       "      <td>237.333333</td>\n",
       "    </tr>\n",
       "  </tbody>\n",
       "</table>\n",
       "</div>"
      ],
      "text/plain": [
       "Airports      ADL-PER      MEL-ADL      MEL-BNE      MEL-OOL      MEL-PER  \\\n",
       "Class                                                                       \n",
       "Business   262.681818   570.232955   374.681818    53.537143   443.039773   \n",
       "Economy   2042.879859  7359.328622  5011.198582  2110.216312  4127.208481   \n",
       "First      144.035336   363.162544   224.521277    51.273050   263.657244   \n",
       "\n",
       "Airports       MEL-SYD      SYD-ADL       SYD-BNE      SYD-OOL      SYD-PER  \n",
       "Class                                                                        \n",
       "Business   2213.136364   465.193182   1025.420455   172.539773   371.514286  \n",
       "Economy   21508.500000  4507.342756  14222.496454  3946.797872  2928.946996  \n",
       "First      1461.560284   283.554770    759.053191   153.581560   237.333333  "
      ]
     },
     "execution_count": 3,
     "metadata": {},
     "output_type": "execute_result"
    }
   ],
   "source": [
    "#默认值就是求平均\n",
    "df.pivot_table(index = 'Class',columns = 'Airports',values = 'Passengers')#不同仓位在不同机场的乘客数"
   ]
  },
  {
   "cell_type": "code",
   "execution_count": 4,
   "id": "3dea5f37",
   "metadata": {},
   "outputs": [
    {
     "data": {
      "text/html": [
       "<div>\n",
       "<style scoped>\n",
       "    .dataframe tbody tr th:only-of-type {\n",
       "        vertical-align: middle;\n",
       "    }\n",
       "\n",
       "    .dataframe tbody tr th {\n",
       "        vertical-align: top;\n",
       "    }\n",
       "\n",
       "    .dataframe thead th {\n",
       "        text-align: right;\n",
       "    }\n",
       "</style>\n",
       "<table border=\"1\" class=\"dataframe\">\n",
       "  <thead>\n",
       "    <tr style=\"text-align: right;\">\n",
       "      <th>Airports</th>\n",
       "      <th>ADL-PER</th>\n",
       "      <th>MEL-ADL</th>\n",
       "      <th>MEL-BNE</th>\n",
       "      <th>MEL-OOL</th>\n",
       "      <th>MEL-PER</th>\n",
       "      <th>MEL-SYD</th>\n",
       "      <th>SYD-ADL</th>\n",
       "      <th>SYD-BNE</th>\n",
       "      <th>SYD-OOL</th>\n",
       "      <th>SYD-PER</th>\n",
       "    </tr>\n",
       "    <tr>\n",
       "      <th>Class</th>\n",
       "      <th></th>\n",
       "      <th></th>\n",
       "      <th></th>\n",
       "      <th></th>\n",
       "      <th></th>\n",
       "      <th></th>\n",
       "      <th></th>\n",
       "      <th></th>\n",
       "      <th></th>\n",
       "      <th></th>\n",
       "    </tr>\n",
       "  </thead>\n",
       "  <tbody>\n",
       "    <tr>\n",
       "      <th>Business</th>\n",
       "      <td>1015</td>\n",
       "      <td>2956</td>\n",
       "      <td>1719</td>\n",
       "      <td>251</td>\n",
       "      <td>1640</td>\n",
       "      <td>10433</td>\n",
       "      <td>1861</td>\n",
       "      <td>4319</td>\n",
       "      <td>655</td>\n",
       "      <td>1057</td>\n",
       "    </tr>\n",
       "    <tr>\n",
       "      <th>Economy</th>\n",
       "      <td>3305</td>\n",
       "      <td>12067</td>\n",
       "      <td>9532</td>\n",
       "      <td>5017</td>\n",
       "      <td>9464</td>\n",
       "      <td>32468</td>\n",
       "      <td>8356</td>\n",
       "      <td>22770</td>\n",
       "      <td>7573</td>\n",
       "      <td>7413</td>\n",
       "    </tr>\n",
       "    <tr>\n",
       "      <th>First</th>\n",
       "      <td>341</td>\n",
       "      <td>952</td>\n",
       "      <td>435</td>\n",
       "      <td>137</td>\n",
       "      <td>568</td>\n",
       "      <td>2716</td>\n",
       "      <td>828</td>\n",
       "      <td>1510</td>\n",
       "      <td>373</td>\n",
       "      <td>547</td>\n",
       "    </tr>\n",
       "  </tbody>\n",
       "</table>\n",
       "</div>"
      ],
      "text/plain": [
       "Airports  ADL-PER  MEL-ADL  MEL-BNE  MEL-OOL  MEL-PER  MEL-SYD  SYD-ADL  \\\n",
       "Class                                                                     \n",
       "Business     1015     2956     1719      251     1640    10433     1861   \n",
       "Economy      3305    12067     9532     5017     9464    32468     8356   \n",
       "First         341      952      435      137      568     2716      828   \n",
       "\n",
       "Airports  SYD-BNE  SYD-OOL  SYD-PER  \n",
       "Class                                \n",
       "Business     4319      655     1057  \n",
       "Economy     22770     7573     7413  \n",
       "First        1510      373      547  "
      ]
     },
     "execution_count": 4,
     "metadata": {},
     "output_type": "execute_result"
    }
   ],
   "source": [
    "df.pivot_table(index = 'Class',columns = 'Airports',values = 'Passengers',aggfunc = 'max')#求最大值"
   ]
  },
  {
   "cell_type": "code",
   "execution_count": 6,
   "id": "63de24c0",
   "metadata": {},
   "outputs": [
    {
     "data": {
      "text/html": [
       "<div>\n",
       "<style scoped>\n",
       "    .dataframe tbody tr th:only-of-type {\n",
       "        vertical-align: middle;\n",
       "    }\n",
       "\n",
       "    .dataframe tbody tr th {\n",
       "        vertical-align: top;\n",
       "    }\n",
       "\n",
       "    .dataframe thead th {\n",
       "        text-align: right;\n",
       "    }\n",
       "</style>\n",
       "<table border=\"1\" class=\"dataframe\">\n",
       "  <thead>\n",
       "    <tr style=\"text-align: right;\">\n",
       "      <th>Airports</th>\n",
       "      <th>ADL-PER</th>\n",
       "      <th>MEL-ADL</th>\n",
       "      <th>MEL-BNE</th>\n",
       "      <th>MEL-OOL</th>\n",
       "      <th>MEL-PER</th>\n",
       "      <th>MEL-SYD</th>\n",
       "      <th>SYD-ADL</th>\n",
       "      <th>SYD-BNE</th>\n",
       "      <th>SYD-OOL</th>\n",
       "      <th>SYD-PER</th>\n",
       "    </tr>\n",
       "    <tr>\n",
       "      <th>Class</th>\n",
       "      <th></th>\n",
       "      <th></th>\n",
       "      <th></th>\n",
       "      <th></th>\n",
       "      <th></th>\n",
       "      <th></th>\n",
       "      <th></th>\n",
       "      <th></th>\n",
       "      <th></th>\n",
       "      <th></th>\n",
       "    </tr>\n",
       "  </thead>\n",
       "  <tbody>\n",
       "    <tr>\n",
       "      <th>Business</th>\n",
       "      <td>176</td>\n",
       "      <td>176</td>\n",
       "      <td>176</td>\n",
       "      <td>175</td>\n",
       "      <td>176</td>\n",
       "      <td>176</td>\n",
       "      <td>176</td>\n",
       "      <td>176</td>\n",
       "      <td>176</td>\n",
       "      <td>175</td>\n",
       "    </tr>\n",
       "    <tr>\n",
       "      <th>Economy</th>\n",
       "      <td>283</td>\n",
       "      <td>283</td>\n",
       "      <td>282</td>\n",
       "      <td>282</td>\n",
       "      <td>283</td>\n",
       "      <td>282</td>\n",
       "      <td>283</td>\n",
       "      <td>282</td>\n",
       "      <td>282</td>\n",
       "      <td>283</td>\n",
       "    </tr>\n",
       "    <tr>\n",
       "      <th>First</th>\n",
       "      <td>283</td>\n",
       "      <td>283</td>\n",
       "      <td>282</td>\n",
       "      <td>282</td>\n",
       "      <td>283</td>\n",
       "      <td>282</td>\n",
       "      <td>283</td>\n",
       "      <td>282</td>\n",
       "      <td>282</td>\n",
       "      <td>282</td>\n",
       "    </tr>\n",
       "  </tbody>\n",
       "</table>\n",
       "</div>"
      ],
      "text/plain": [
       "Airports  ADL-PER  MEL-ADL  MEL-BNE  MEL-OOL  MEL-PER  MEL-SYD  SYD-ADL  \\\n",
       "Class                                                                     \n",
       "Business      176      176      176      175      176      176      176   \n",
       "Economy       283      283      282      282      283      282      283   \n",
       "First         283      283      282      282      283      282      283   \n",
       "\n",
       "Airports  SYD-BNE  SYD-OOL  SYD-PER  \n",
       "Class                                \n",
       "Business      176      176      175  \n",
       "Economy       282      282      283  \n",
       "First         282      282      282  "
      ]
     },
     "execution_count": 6,
     "metadata": {},
     "output_type": "execute_result"
    }
   ],
   "source": [
    "df.pivot_table(index = 'Class',columns = 'Airports',values = 'Passengers',aggfunc = 'count')"
   ]
  },
  {
   "cell_type": "code",
   "execution_count": 9,
   "id": "f37bb254",
   "metadata": {},
   "outputs": [
    {
     "ename": "SyntaxError",
     "evalue": "invalid syntax (Temp/ipykernel_13372/1490670898.py, line 1)",
     "output_type": "error",
     "traceback": [
      "\u001b[1;36m  File \u001b[1;32m\"C:\\Users\\may_wu\\AppData\\Local\\Temp/ipykernel_13372/1490670898.py\"\u001b[1;36m, line \u001b[1;32m1\u001b[0m\n\u001b[1;33m    df.crosstab(index = df['Class',columns = df['Airports'])#交叉表(crosstab)\u001b[0m\n\u001b[1;37m                                           ^\u001b[0m\n\u001b[1;31mSyntaxError\u001b[0m\u001b[1;31m:\u001b[0m invalid syntax\n"
     ]
    }
   ],
   "source": [
    "df.crosstab(index = df['Class',columns = df['Airports']) #交叉表(crosstab)-'Airports'"
   ]
  },
  {
   "cell_type": "code",
   "execution_count": 10,
   "id": "393b0b4e",
   "metadata": {},
   "outputs": [],
   "source": [
    "df['look'] = df['Passengers']<=500"
   ]
  },
  {
   "cell_type": "code",
   "execution_count": 11,
   "id": "7a2b3d33",
   "metadata": {},
   "outputs": [
    {
     "data": {
      "text/html": [
       "<div>\n",
       "<style scoped>\n",
       "    .dataframe tbody tr th:only-of-type {\n",
       "        vertical-align: middle;\n",
       "    }\n",
       "\n",
       "    .dataframe tbody tr th {\n",
       "        vertical-align: top;\n",
       "    }\n",
       "\n",
       "    .dataframe thead th {\n",
       "        text-align: right;\n",
       "    }\n",
       "</style>\n",
       "<table border=\"1\" class=\"dataframe\">\n",
       "  <thead>\n",
       "    <tr style=\"text-align: right;\">\n",
       "      <th>Airports</th>\n",
       "      <th>ADL-PER</th>\n",
       "      <th>MEL-ADL</th>\n",
       "      <th>MEL-BNE</th>\n",
       "      <th>MEL-OOL</th>\n",
       "      <th>MEL-PER</th>\n",
       "      <th>MEL-SYD</th>\n",
       "      <th>SYD-ADL</th>\n",
       "      <th>SYD-BNE</th>\n",
       "      <th>SYD-OOL</th>\n",
       "      <th>SYD-PER</th>\n",
       "    </tr>\n",
       "    <tr>\n",
       "      <th>look</th>\n",
       "      <th></th>\n",
       "      <th></th>\n",
       "      <th></th>\n",
       "      <th></th>\n",
       "      <th></th>\n",
       "      <th></th>\n",
       "      <th></th>\n",
       "      <th></th>\n",
       "      <th></th>\n",
       "      <th></th>\n",
       "    </tr>\n",
       "  </thead>\n",
       "  <tbody>\n",
       "    <tr>\n",
       "      <th>False</th>\n",
       "      <td>2095.366548</td>\n",
       "      <td>5606.827320</td>\n",
       "      <td>4645.829582</td>\n",
       "      <td>2219.757463</td>\n",
       "      <td>3715.753846</td>\n",
       "      <td>9761.045519</td>\n",
       "      <td>4072.87963</td>\n",
       "      <td>7027.209003</td>\n",
       "      <td>4043.605072</td>\n",
       "      <td>2784.793443</td>\n",
       "    </tr>\n",
       "    <tr>\n",
       "      <th>True</th>\n",
       "      <td>165.577007</td>\n",
       "      <td>311.799435</td>\n",
       "      <td>227.421911</td>\n",
       "      <td>50.985138</td>\n",
       "      <td>270.911271</td>\n",
       "      <td>136.594595</td>\n",
       "      <td>282.50000</td>\n",
       "      <td>291.076271</td>\n",
       "      <td>152.239224</td>\n",
       "      <td>256.259770</td>\n",
       "    </tr>\n",
       "  </tbody>\n",
       "</table>\n",
       "</div>"
      ],
      "text/plain": [
       "Airports      ADL-PER      MEL-ADL      MEL-BNE      MEL-OOL      MEL-PER  \\\n",
       "look                                                                        \n",
       "False     2095.366548  5606.827320  4645.829582  2219.757463  3715.753846   \n",
       "True       165.577007   311.799435   227.421911    50.985138   270.911271   \n",
       "\n",
       "Airports      MEL-SYD     SYD-ADL      SYD-BNE      SYD-OOL      SYD-PER  \n",
       "look                                                                      \n",
       "False     9761.045519  4072.87963  7027.209003  4043.605072  2784.793443  \n",
       "True       136.594595   282.50000   291.076271   152.239224   256.259770  "
      ]
     },
     "execution_count": 11,
     "metadata": {},
     "output_type": "execute_result"
    }
   ],
   "source": [
    "df.pivot_table(index = 'look',columns = 'Airports',values = 'Passengers',aggfunc = 'mean')"
   ]
  },
  {
   "cell_type": "markdown",
   "id": "b44e44a9",
   "metadata": {},
   "source": [
    "## 时间操作"
   ]
  },
  {
   "cell_type": "code",
   "execution_count": 13,
   "id": "8ab89231",
   "metadata": {},
   "outputs": [],
   "source": [
    "import datetime"
   ]
  },
  {
   "cell_type": "code",
   "execution_count": 15,
   "id": "b1087ac9",
   "metadata": {},
   "outputs": [
    {
     "data": {
      "text/plain": [
       "datetime.datetime(2022, 3, 29, 22, 44)"
      ]
     },
     "execution_count": 15,
     "metadata": {},
     "output_type": "execute_result"
    }
   ],
   "source": [
    "d = datetime.datetime(year=2022, month=3,day=29,hour=22,minute=44)#输出今天的时间\n",
    "d"
   ]
  },
  {
   "cell_type": "code",
   "execution_count": 16,
   "id": "bfceb928",
   "metadata": {},
   "outputs": [
    {
     "name": "stdout",
     "output_type": "stream",
     "text": [
      "2022-03-29 22:44:00\n"
     ]
    }
   ],
   "source": [
    "print(d)#转为标准格式"
   ]
  },
  {
   "cell_type": "code",
   "execution_count": 17,
   "id": "fbcfa7d7",
   "metadata": {},
   "outputs": [],
   "source": [
    "import pandas as pd"
   ]
  },
  {
   "cell_type": "code",
   "execution_count": 19,
   "id": "e8fe3a34",
   "metadata": {},
   "outputs": [
    {
     "data": {
      "text/plain": [
       "Timestamp('2022-03-22 00:00:00')"
      ]
     },
     "execution_count": 19,
     "metadata": {},
     "output_type": "execute_result"
    }
   ],
   "source": [
    "ts = pd.Timestamp('2022-3-22')\n",
    "ts"
   ]
  },
  {
   "cell_type": "code",
   "execution_count": 20,
   "id": "c8efa617",
   "metadata": {},
   "outputs": [
    {
     "data": {
      "text/plain": [
       "3"
      ]
     },
     "execution_count": 20,
     "metadata": {},
     "output_type": "execute_result"
    }
   ],
   "source": [
    "ts.month"
   ]
  },
  {
   "cell_type": "code",
   "execution_count": 21,
   "id": "6baed5ee",
   "metadata": {},
   "outputs": [
    {
     "data": {
      "text/plain": [
       "22"
      ]
     },
     "execution_count": 21,
     "metadata": {},
     "output_type": "execute_result"
    }
   ],
   "source": [
    "ts.day"
   ]
  },
  {
   "cell_type": "code",
   "execution_count": 22,
   "id": "c5db14da",
   "metadata": {},
   "outputs": [
    {
     "data": {
      "text/plain": [
       "Timestamp('2022-03-27 00:00:00')"
      ]
     },
     "execution_count": 22,
     "metadata": {},
     "output_type": "execute_result"
    }
   ],
   "source": [
    "ts + pd.Timedelta('5 days')"
   ]
  },
  {
   "cell_type": "code",
   "execution_count": 23,
   "id": "9ff3116b",
   "metadata": {},
   "outputs": [],
   "source": [
    "# 11-12没有看结束"
   ]
  },
  {
   "cell_type": "markdown",
   "id": "64bf4975",
   "metadata": {},
   "source": [
    "## 13.Pandas常用操作"
   ]
  },
  {
   "cell_type": "code",
   "execution_count": 25,
   "id": "b5f0313d",
   "metadata": {},
   "outputs": [
    {
     "data": {
      "text/html": [
       "<div>\n",
       "<style scoped>\n",
       "    .dataframe tbody tr th:only-of-type {\n",
       "        vertical-align: middle;\n",
       "    }\n",
       "\n",
       "    .dataframe tbody tr th {\n",
       "        vertical-align: top;\n",
       "    }\n",
       "\n",
       "    .dataframe thead th {\n",
       "        text-align: right;\n",
       "    }\n",
       "</style>\n",
       "<table border=\"1\" class=\"dataframe\">\n",
       "  <thead>\n",
       "    <tr style=\"text-align: right;\">\n",
       "      <th></th>\n",
       "      <th>group</th>\n",
       "      <th>data</th>\n",
       "    </tr>\n",
       "  </thead>\n",
       "  <tbody>\n",
       "    <tr>\n",
       "      <th>0</th>\n",
       "      <td>a</td>\n",
       "      <td>4</td>\n",
       "    </tr>\n",
       "    <tr>\n",
       "      <th>1</th>\n",
       "      <td>a</td>\n",
       "      <td>3</td>\n",
       "    </tr>\n",
       "    <tr>\n",
       "      <th>2</th>\n",
       "      <td>a</td>\n",
       "      <td>2</td>\n",
       "    </tr>\n",
       "    <tr>\n",
       "      <th>3</th>\n",
       "      <td>b</td>\n",
       "      <td>1</td>\n",
       "    </tr>\n",
       "    <tr>\n",
       "      <th>4</th>\n",
       "      <td>b</td>\n",
       "      <td>12</td>\n",
       "    </tr>\n",
       "    <tr>\n",
       "      <th>5</th>\n",
       "      <td>b</td>\n",
       "      <td>3</td>\n",
       "    </tr>\n",
       "    <tr>\n",
       "      <th>6</th>\n",
       "      <td>c</td>\n",
       "      <td>4</td>\n",
       "    </tr>\n",
       "    <tr>\n",
       "      <th>7</th>\n",
       "      <td>c</td>\n",
       "      <td>5</td>\n",
       "    </tr>\n",
       "    <tr>\n",
       "      <th>8</th>\n",
       "      <td>c</td>\n",
       "      <td>7</td>\n",
       "    </tr>\n",
       "  </tbody>\n",
       "</table>\n",
       "</div>"
      ],
      "text/plain": [
       "  group  data\n",
       "0     a     4\n",
       "1     a     3\n",
       "2     a     2\n",
       "3     b     1\n",
       "4     b    12\n",
       "5     b     3\n",
       "6     c     4\n",
       "7     c     5\n",
       "8     c     7"
      ]
     },
     "execution_count": 25,
     "metadata": {},
     "output_type": "execute_result"
    }
   ],
   "source": [
    "import pandas as pd\n",
    "data = pd.DataFrame({'group':['a','a','a','b','b','b','c','c','c'],\n",
    "                    'data':[4,3,2,1,12,3,4,5,7]})\n",
    "data"
   ]
  },
  {
   "cell_type": "code",
   "execution_count": 29,
   "id": "149b5677",
   "metadata": {},
   "outputs": [],
   "source": [
    "#排序操作\n",
    "data.sort_values(by=['group','data'],ascending = [False,True],inplace = True)#在前降序的情况下，后面保持升序"
   ]
  },
  {
   "cell_type": "code",
   "execution_count": 30,
   "id": "db4f6297",
   "metadata": {},
   "outputs": [
    {
     "data": {
      "text/html": [
       "<div>\n",
       "<style scoped>\n",
       "    .dataframe tbody tr th:only-of-type {\n",
       "        vertical-align: middle;\n",
       "    }\n",
       "\n",
       "    .dataframe tbody tr th {\n",
       "        vertical-align: top;\n",
       "    }\n",
       "\n",
       "    .dataframe thead th {\n",
       "        text-align: right;\n",
       "    }\n",
       "</style>\n",
       "<table border=\"1\" class=\"dataframe\">\n",
       "  <thead>\n",
       "    <tr style=\"text-align: right;\">\n",
       "      <th></th>\n",
       "      <th>group</th>\n",
       "      <th>data</th>\n",
       "    </tr>\n",
       "  </thead>\n",
       "  <tbody>\n",
       "    <tr>\n",
       "      <th>6</th>\n",
       "      <td>c</td>\n",
       "      <td>4</td>\n",
       "    </tr>\n",
       "    <tr>\n",
       "      <th>7</th>\n",
       "      <td>c</td>\n",
       "      <td>5</td>\n",
       "    </tr>\n",
       "    <tr>\n",
       "      <th>8</th>\n",
       "      <td>c</td>\n",
       "      <td>7</td>\n",
       "    </tr>\n",
       "    <tr>\n",
       "      <th>3</th>\n",
       "      <td>b</td>\n",
       "      <td>1</td>\n",
       "    </tr>\n",
       "    <tr>\n",
       "      <th>5</th>\n",
       "      <td>b</td>\n",
       "      <td>3</td>\n",
       "    </tr>\n",
       "    <tr>\n",
       "      <th>4</th>\n",
       "      <td>b</td>\n",
       "      <td>12</td>\n",
       "    </tr>\n",
       "    <tr>\n",
       "      <th>2</th>\n",
       "      <td>a</td>\n",
       "      <td>2</td>\n",
       "    </tr>\n",
       "    <tr>\n",
       "      <th>1</th>\n",
       "      <td>a</td>\n",
       "      <td>3</td>\n",
       "    </tr>\n",
       "    <tr>\n",
       "      <th>0</th>\n",
       "      <td>a</td>\n",
       "      <td>4</td>\n",
       "    </tr>\n",
       "  </tbody>\n",
       "</table>\n",
       "</div>"
      ],
      "text/plain": [
       "  group  data\n",
       "6     c     4\n",
       "7     c     5\n",
       "8     c     7\n",
       "3     b     1\n",
       "5     b     3\n",
       "4     b    12\n",
       "2     a     2\n",
       "1     a     3\n",
       "0     a     4"
      ]
     },
     "execution_count": 30,
     "metadata": {},
     "output_type": "execute_result"
    }
   ],
   "source": [
    "data"
   ]
  },
  {
   "cell_type": "code",
   "execution_count": 31,
   "id": "8fdee9dd",
   "metadata": {},
   "outputs": [
    {
     "data": {
      "text/html": [
       "<div>\n",
       "<style scoped>\n",
       "    .dataframe tbody tr th:only-of-type {\n",
       "        vertical-align: middle;\n",
       "    }\n",
       "\n",
       "    .dataframe tbody tr th {\n",
       "        vertical-align: top;\n",
       "    }\n",
       "\n",
       "    .dataframe thead th {\n",
       "        text-align: right;\n",
       "    }\n",
       "</style>\n",
       "<table border=\"1\" class=\"dataframe\">\n",
       "  <thead>\n",
       "    <tr style=\"text-align: right;\">\n",
       "      <th></th>\n",
       "      <th>k1</th>\n",
       "      <th>k2</th>\n",
       "    </tr>\n",
       "  </thead>\n",
       "  <tbody>\n",
       "    <tr>\n",
       "      <th>0</th>\n",
       "      <td>one</td>\n",
       "      <td>3</td>\n",
       "    </tr>\n",
       "    <tr>\n",
       "      <th>1</th>\n",
       "      <td>one</td>\n",
       "      <td>2</td>\n",
       "    </tr>\n",
       "    <tr>\n",
       "      <th>2</th>\n",
       "      <td>one</td>\n",
       "      <td>1</td>\n",
       "    </tr>\n",
       "    <tr>\n",
       "      <th>3</th>\n",
       "      <td>two</td>\n",
       "      <td>3</td>\n",
       "    </tr>\n",
       "    <tr>\n",
       "      <th>4</th>\n",
       "      <td>two</td>\n",
       "      <td>3</td>\n",
       "    </tr>\n",
       "    <tr>\n",
       "      <th>5</th>\n",
       "      <td>two</td>\n",
       "      <td>4</td>\n",
       "    </tr>\n",
       "    <tr>\n",
       "      <th>6</th>\n",
       "      <td>two</td>\n",
       "      <td>4</td>\n",
       "    </tr>\n",
       "  </tbody>\n",
       "</table>\n",
       "</div>"
      ],
      "text/plain": [
       "    k1  k2\n",
       "0  one   3\n",
       "1  one   2\n",
       "2  one   1\n",
       "3  two   3\n",
       "4  two   3\n",
       "5  two   4\n",
       "6  two   4"
      ]
     },
     "execution_count": 31,
     "metadata": {},
     "output_type": "execute_result"
    }
   ],
   "source": [
    "data = pd.DataFrame({'k1':['one']*3+['two']*4,'k2':[3,2,1,3,3,4,4]})\n",
    "data"
   ]
  },
  {
   "cell_type": "code",
   "execution_count": 32,
   "id": "e7e44ddc",
   "metadata": {},
   "outputs": [
    {
     "data": {
      "text/html": [
       "<div>\n",
       "<style scoped>\n",
       "    .dataframe tbody tr th:only-of-type {\n",
       "        vertical-align: middle;\n",
       "    }\n",
       "\n",
       "    .dataframe tbody tr th {\n",
       "        vertical-align: top;\n",
       "    }\n",
       "\n",
       "    .dataframe thead th {\n",
       "        text-align: right;\n",
       "    }\n",
       "</style>\n",
       "<table border=\"1\" class=\"dataframe\">\n",
       "  <thead>\n",
       "    <tr style=\"text-align: right;\">\n",
       "      <th></th>\n",
       "      <th>k1</th>\n",
       "      <th>k2</th>\n",
       "    </tr>\n",
       "  </thead>\n",
       "  <tbody>\n",
       "    <tr>\n",
       "      <th>2</th>\n",
       "      <td>one</td>\n",
       "      <td>1</td>\n",
       "    </tr>\n",
       "    <tr>\n",
       "      <th>1</th>\n",
       "      <td>one</td>\n",
       "      <td>2</td>\n",
       "    </tr>\n",
       "    <tr>\n",
       "      <th>0</th>\n",
       "      <td>one</td>\n",
       "      <td>3</td>\n",
       "    </tr>\n",
       "    <tr>\n",
       "      <th>3</th>\n",
       "      <td>two</td>\n",
       "      <td>3</td>\n",
       "    </tr>\n",
       "    <tr>\n",
       "      <th>4</th>\n",
       "      <td>two</td>\n",
       "      <td>3</td>\n",
       "    </tr>\n",
       "    <tr>\n",
       "      <th>5</th>\n",
       "      <td>two</td>\n",
       "      <td>4</td>\n",
       "    </tr>\n",
       "    <tr>\n",
       "      <th>6</th>\n",
       "      <td>two</td>\n",
       "      <td>4</td>\n",
       "    </tr>\n",
       "  </tbody>\n",
       "</table>\n",
       "</div>"
      ],
      "text/plain": [
       "    k1  k2\n",
       "2  one   1\n",
       "1  one   2\n",
       "0  one   3\n",
       "3  two   3\n",
       "4  two   3\n",
       "5  two   4\n",
       "6  two   4"
      ]
     },
     "execution_count": 32,
     "metadata": {},
     "output_type": "execute_result"
    }
   ],
   "source": [
    "data.sort_values(by='k2')#默认升序"
   ]
  },
  {
   "cell_type": "code",
   "execution_count": 34,
   "id": "95f6c15c",
   "metadata": {},
   "outputs": [
    {
     "data": {
      "text/html": [
       "<div>\n",
       "<style scoped>\n",
       "    .dataframe tbody tr th:only-of-type {\n",
       "        vertical-align: middle;\n",
       "    }\n",
       "\n",
       "    .dataframe tbody tr th {\n",
       "        vertical-align: top;\n",
       "    }\n",
       "\n",
       "    .dataframe thead th {\n",
       "        text-align: right;\n",
       "    }\n",
       "</style>\n",
       "<table border=\"1\" class=\"dataframe\">\n",
       "  <thead>\n",
       "    <tr style=\"text-align: right;\">\n",
       "      <th></th>\n",
       "      <th>k1</th>\n",
       "      <th>k2</th>\n",
       "    </tr>\n",
       "  </thead>\n",
       "  <tbody>\n",
       "    <tr>\n",
       "      <th>0</th>\n",
       "      <td>one</td>\n",
       "      <td>3</td>\n",
       "    </tr>\n",
       "    <tr>\n",
       "      <th>1</th>\n",
       "      <td>one</td>\n",
       "      <td>2</td>\n",
       "    </tr>\n",
       "    <tr>\n",
       "      <th>2</th>\n",
       "      <td>one</td>\n",
       "      <td>1</td>\n",
       "    </tr>\n",
       "    <tr>\n",
       "      <th>3</th>\n",
       "      <td>two</td>\n",
       "      <td>3</td>\n",
       "    </tr>\n",
       "    <tr>\n",
       "      <th>5</th>\n",
       "      <td>two</td>\n",
       "      <td>4</td>\n",
       "    </tr>\n",
       "  </tbody>\n",
       "</table>\n",
       "</div>"
      ],
      "text/plain": [
       "    k1  k2\n",
       "0  one   3\n",
       "1  one   2\n",
       "2  one   1\n",
       "3  two   3\n",
       "5  two   4"
      ]
     },
     "execution_count": 34,
     "metadata": {},
     "output_type": "execute_result"
    }
   ],
   "source": [
    "data.drop_duplicates()#扔掉重复的值"
   ]
  },
  {
   "cell_type": "code",
   "execution_count": 35,
   "id": "270669ab",
   "metadata": {},
   "outputs": [
    {
     "data": {
      "text/html": [
       "<div>\n",
       "<style scoped>\n",
       "    .dataframe tbody tr th:only-of-type {\n",
       "        vertical-align: middle;\n",
       "    }\n",
       "\n",
       "    .dataframe tbody tr th {\n",
       "        vertical-align: top;\n",
       "    }\n",
       "\n",
       "    .dataframe thead th {\n",
       "        text-align: right;\n",
       "    }\n",
       "</style>\n",
       "<table border=\"1\" class=\"dataframe\">\n",
       "  <thead>\n",
       "    <tr style=\"text-align: right;\">\n",
       "      <th></th>\n",
       "      <th>k1</th>\n",
       "      <th>k2</th>\n",
       "    </tr>\n",
       "  </thead>\n",
       "  <tbody>\n",
       "    <tr>\n",
       "      <th>0</th>\n",
       "      <td>one</td>\n",
       "      <td>3</td>\n",
       "    </tr>\n",
       "    <tr>\n",
       "      <th>3</th>\n",
       "      <td>two</td>\n",
       "      <td>3</td>\n",
       "    </tr>\n",
       "  </tbody>\n",
       "</table>\n",
       "</div>"
      ],
      "text/plain": [
       "    k1  k2\n",
       "0  one   3\n",
       "3  two   3"
      ]
     },
     "execution_count": 35,
     "metadata": {},
     "output_type": "execute_result"
    }
   ],
   "source": [
    "data.drop_duplicates(subset = 'k1')#以k1为基准去重复"
   ]
  },
  {
   "cell_type": "code",
   "execution_count": null,
   "id": "04dda0e6",
   "metadata": {},
   "outputs": [],
   "source": [
    "pd.Date"
   ]
  }
 ],
 "metadata": {
  "kernelspec": {
   "display_name": "Python 3 (ipykernel)",
   "language": "python",
   "name": "python3"
  },
  "language_info": {
   "codemirror_mode": {
    "name": "ipython",
    "version": 3
   },
   "file_extension": ".py",
   "mimetype": "text/x-python",
   "name": "python",
   "nbconvert_exporter": "python",
   "pygments_lexer": "ipython3",
   "version": "3.9.7"
  }
 },
 "nbformat": 4,
 "nbformat_minor": 5
}
