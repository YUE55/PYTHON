{
 "cells": [
  {
   "cell_type": "markdown",
   "id": "57505c0a",
   "metadata": {},
   "source": [
    "## Pandas数据分析处理库"
   ]
  },
  {
   "cell_type": "code",
   "execution_count": 2,
   "id": "727b7d0c",
   "metadata": {},
   "outputs": [],
   "source": [
    "import pandas as pd"
   ]
  },
  {
   "cell_type": "code",
   "execution_count": 3,
   "id": "1dd3ec14",
   "metadata": {},
   "outputs": [
    {
     "data": {
      "text/html": [
       "<div>\n",
       "<style scoped>\n",
       "    .dataframe tbody tr th:only-of-type {\n",
       "        vertical-align: middle;\n",
       "    }\n",
       "\n",
       "    .dataframe tbody tr th {\n",
       "        vertical-align: top;\n",
       "    }\n",
       "\n",
       "    .dataframe thead th {\n",
       "        text-align: right;\n",
       "    }\n",
       "</style>\n",
       "<table border=\"1\" class=\"dataframe\">\n",
       "  <thead>\n",
       "    <tr style=\"text-align: right;\">\n",
       "      <th></th>\n",
       "      <th>Week</th>\n",
       "      <th>Airports</th>\n",
       "      <th>Class</th>\n",
       "      <th>Passengers</th>\n",
       "    </tr>\n",
       "  </thead>\n",
       "  <tbody>\n",
       "    <tr>\n",
       "      <th>0</th>\n",
       "      <td>1989 W28</td>\n",
       "      <td>ADL-PER</td>\n",
       "      <td>Business</td>\n",
       "      <td>193</td>\n",
       "    </tr>\n",
       "    <tr>\n",
       "      <th>1</th>\n",
       "      <td>1989 W29</td>\n",
       "      <td>ADL-PER</td>\n",
       "      <td>Business</td>\n",
       "      <td>254</td>\n",
       "    </tr>\n",
       "    <tr>\n",
       "      <th>2</th>\n",
       "      <td>1989 W30</td>\n",
       "      <td>ADL-PER</td>\n",
       "      <td>Business</td>\n",
       "      <td>185</td>\n",
       "    </tr>\n",
       "    <tr>\n",
       "      <th>3</th>\n",
       "      <td>1989 W31</td>\n",
       "      <td>ADL-PER</td>\n",
       "      <td>Business</td>\n",
       "      <td>254</td>\n",
       "    </tr>\n",
       "    <tr>\n",
       "      <th>4</th>\n",
       "      <td>1989 W32</td>\n",
       "      <td>ADL-PER</td>\n",
       "      <td>Business</td>\n",
       "      <td>191</td>\n",
       "    </tr>\n",
       "    <tr>\n",
       "      <th>...</th>\n",
       "      <td>...</td>\n",
       "      <td>...</td>\n",
       "      <td>...</td>\n",
       "      <td>...</td>\n",
       "    </tr>\n",
       "    <tr>\n",
       "      <th>7402</th>\n",
       "      <td>1992 W43</td>\n",
       "      <td>SYD-PER</td>\n",
       "      <td>First</td>\n",
       "      <td>203</td>\n",
       "    </tr>\n",
       "    <tr>\n",
       "      <th>7403</th>\n",
       "      <td>1992 W44</td>\n",
       "      <td>SYD-PER</td>\n",
       "      <td>First</td>\n",
       "      <td>137</td>\n",
       "    </tr>\n",
       "    <tr>\n",
       "      <th>7404</th>\n",
       "      <td>1992 W45</td>\n",
       "      <td>SYD-PER</td>\n",
       "      <td>First</td>\n",
       "      <td>161</td>\n",
       "    </tr>\n",
       "    <tr>\n",
       "      <th>7405</th>\n",
       "      <td>1992 W46</td>\n",
       "      <td>SYD-PER</td>\n",
       "      <td>First</td>\n",
       "      <td>155</td>\n",
       "    </tr>\n",
       "    <tr>\n",
       "      <th>7406</th>\n",
       "      <td>1992 W47</td>\n",
       "      <td>SYD-PER</td>\n",
       "      <td>First</td>\n",
       "      <td>188</td>\n",
       "    </tr>\n",
       "  </tbody>\n",
       "</table>\n",
       "<p>7407 rows × 4 columns</p>\n",
       "</div>"
      ],
      "text/plain": [
       "          Week Airports     Class  Passengers\n",
       "0     1989 W28  ADL-PER  Business         193\n",
       "1     1989 W29  ADL-PER  Business         254\n",
       "2     1989 W30  ADL-PER  Business         185\n",
       "3     1989 W31  ADL-PER  Business         254\n",
       "4     1989 W32  ADL-PER  Business         191\n",
       "...        ...      ...       ...         ...\n",
       "7402  1992 W43  SYD-PER     First         203\n",
       "7403  1992 W44  SYD-PER     First         137\n",
       "7404  1992 W45  SYD-PER     First         161\n",
       "7405  1992 W46  SYD-PER     First         155\n",
       "7406  1992 W47  SYD-PER     First         188\n",
       "\n",
       "[7407 rows x 4 columns]"
      ]
     },
     "execution_count": 3,
     "metadata": {},
     "output_type": "execute_result"
    }
   ],
   "source": [
    "\n",
    "df = pd.read_csv('D:/Temp/BI.LAB3/ansett.csv')\n",
    "df"
   ]
  },
  {
   "cell_type": "markdown",
   "id": "f1b8f757",
   "metadata": {},
   "source": [
    ".head可以读取前几条数据，默认前五条数据"
   ]
  },
  {
   "cell_type": "code",
   "execution_count": 6,
   "id": "327c4824",
   "metadata": {},
   "outputs": [
    {
     "data": {
      "text/html": [
       "<div>\n",
       "<style scoped>\n",
       "    .dataframe tbody tr th:only-of-type {\n",
       "        vertical-align: middle;\n",
       "    }\n",
       "\n",
       "    .dataframe tbody tr th {\n",
       "        vertical-align: top;\n",
       "    }\n",
       "\n",
       "    .dataframe thead th {\n",
       "        text-align: right;\n",
       "    }\n",
       "</style>\n",
       "<table border=\"1\" class=\"dataframe\">\n",
       "  <thead>\n",
       "    <tr style=\"text-align: right;\">\n",
       "      <th></th>\n",
       "      <th>Week</th>\n",
       "      <th>Airports</th>\n",
       "      <th>Class</th>\n",
       "      <th>Passengers</th>\n",
       "    </tr>\n",
       "  </thead>\n",
       "  <tbody>\n",
       "    <tr>\n",
       "      <th>0</th>\n",
       "      <td>1989 W28</td>\n",
       "      <td>ADL-PER</td>\n",
       "      <td>Business</td>\n",
       "      <td>193</td>\n",
       "    </tr>\n",
       "    <tr>\n",
       "      <th>1</th>\n",
       "      <td>1989 W29</td>\n",
       "      <td>ADL-PER</td>\n",
       "      <td>Business</td>\n",
       "      <td>254</td>\n",
       "    </tr>\n",
       "    <tr>\n",
       "      <th>2</th>\n",
       "      <td>1989 W30</td>\n",
       "      <td>ADL-PER</td>\n",
       "      <td>Business</td>\n",
       "      <td>185</td>\n",
       "    </tr>\n",
       "    <tr>\n",
       "      <th>3</th>\n",
       "      <td>1989 W31</td>\n",
       "      <td>ADL-PER</td>\n",
       "      <td>Business</td>\n",
       "      <td>254</td>\n",
       "    </tr>\n",
       "    <tr>\n",
       "      <th>4</th>\n",
       "      <td>1989 W32</td>\n",
       "      <td>ADL-PER</td>\n",
       "      <td>Business</td>\n",
       "      <td>191</td>\n",
       "    </tr>\n",
       "  </tbody>\n",
       "</table>\n",
       "</div>"
      ],
      "text/plain": [
       "       Week Airports     Class  Passengers\n",
       "0  1989 W28  ADL-PER  Business         193\n",
       "1  1989 W29  ADL-PER  Business         254\n",
       "2  1989 W30  ADL-PER  Business         185\n",
       "3  1989 W31  ADL-PER  Business         254\n",
       "4  1989 W32  ADL-PER  Business         191"
      ]
     },
     "execution_count": 6,
     "metadata": {},
     "output_type": "execute_result"
    }
   ],
   "source": [
    "df.head()#写6就打印前6条,默认打印前5条"
   ]
  },
  {
   "cell_type": "markdown",
   "id": "8e5f3e1e",
   "metadata": {},
   "source": [
    ".info返回当前的信息"
   ]
  },
  {
   "cell_type": "code",
   "execution_count": 7,
   "id": "b9e8e702",
   "metadata": {
    "scrolled": true
   },
   "outputs": [
    {
     "name": "stdout",
     "output_type": "stream",
     "text": [
      "<class 'pandas.core.frame.DataFrame'>\n",
      "RangeIndex: 7407 entries, 0 to 7406\n",
      "Data columns (total 4 columns):\n",
      " #   Column      Non-Null Count  Dtype \n",
      "---  ------      --------------  ----- \n",
      " 0   Week        7407 non-null   object\n",
      " 1   Airports    7407 non-null   object\n",
      " 2   Class       7407 non-null   object\n",
      " 3   Passengers  7407 non-null   int64 \n",
      "dtypes: int64(1), object(3)\n",
      "memory usage: 231.6+ KB\n"
     ]
    }
   ],
   "source": [
    "df.info()#调信息并打印，string串在panda中叫做object类型"
   ]
  },
  {
   "cell_type": "code",
   "execution_count": 8,
   "id": "f6da3cfc",
   "metadata": {},
   "outputs": [
    {
     "data": {
      "text/plain": [
       "RangeIndex(start=0, stop=7407, step=1)"
      ]
     },
     "execution_count": 8,
     "metadata": {},
     "output_type": "execute_result"
    }
   ],
   "source": [
    "df.index#查询索引"
   ]
  },
  {
   "cell_type": "code",
   "execution_count": 9,
   "id": "5639c108",
   "metadata": {},
   "outputs": [
    {
     "data": {
      "text/plain": [
       "Index(['Week', 'Airports', 'Class', 'Passengers'], dtype='object')"
      ]
     },
     "execution_count": 9,
     "metadata": {},
     "output_type": "execute_result"
    }
   ],
   "source": [
    "df.columns#查询列名"
   ]
  },
  {
   "cell_type": "code",
   "execution_count": 10,
   "id": "4afee6ca",
   "metadata": {},
   "outputs": [
    {
     "data": {
      "text/plain": [
       "Week          object\n",
       "Airports      object\n",
       "Class         object\n",
       "Passengers     int64\n",
       "dtype: object"
      ]
     },
     "execution_count": 10,
     "metadata": {},
     "output_type": "execute_result"
    }
   ],
   "source": [
    "df.dtypes#查询列数据的类型"
   ]
  },
  {
   "cell_type": "code",
   "execution_count": 11,
   "id": "d47f60f7",
   "metadata": {},
   "outputs": [
    {
     "data": {
      "text/plain": [
       "array([['1989 W28', 'ADL-PER', 'Business', 193],\n",
       "       ['1989 W29', 'ADL-PER', 'Business', 254],\n",
       "       ['1989 W30', 'ADL-PER', 'Business', 185],\n",
       "       ...,\n",
       "       ['1992 W45', 'SYD-PER', 'First', 161],\n",
       "       ['1992 W46', 'SYD-PER', 'First', 155],\n",
       "       ['1992 W47', 'SYD-PER', 'First', 188]], dtype=object)"
      ]
     },
     "execution_count": 11,
     "metadata": {},
     "output_type": "execute_result"
    }
   ],
   "source": [
    "df.values#查询数值，除去第一行，以行的形式呈现"
   ]
  },
  {
   "cell_type": "markdown",
   "id": "701ac9b5",
   "metadata": {},
   "source": [
    "自己创建一个dataframe结构（以字典的形式）"
   ]
  },
  {
   "cell_type": "code",
   "execution_count": 12,
   "id": "986b4d64",
   "metadata": {},
   "outputs": [
    {
     "data": {
      "text/html": [
       "<div>\n",
       "<style scoped>\n",
       "    .dataframe tbody tr th:only-of-type {\n",
       "        vertical-align: middle;\n",
       "    }\n",
       "\n",
       "    .dataframe tbody tr th {\n",
       "        vertical-align: top;\n",
       "    }\n",
       "\n",
       "    .dataframe thead th {\n",
       "        text-align: right;\n",
       "    }\n",
       "</style>\n",
       "<table border=\"1\" class=\"dataframe\">\n",
       "  <thead>\n",
       "    <tr style=\"text-align: right;\">\n",
       "      <th></th>\n",
       "      <th>country</th>\n",
       "      <th>population</th>\n",
       "    </tr>\n",
       "  </thead>\n",
       "  <tbody>\n",
       "    <tr>\n",
       "      <th>0</th>\n",
       "      <td>aaa</td>\n",
       "      <td>10</td>\n",
       "    </tr>\n",
       "    <tr>\n",
       "      <th>1</th>\n",
       "      <td>bbb</td>\n",
       "      <td>12</td>\n",
       "    </tr>\n",
       "    <tr>\n",
       "      <th>2</th>\n",
       "      <td>ccc</td>\n",
       "      <td>14</td>\n",
       "    </tr>\n",
       "  </tbody>\n",
       "</table>\n",
       "</div>"
      ],
      "text/plain": [
       "  country  population\n",
       "0     aaa          10\n",
       "1     bbb          12\n",
       "2     ccc          14"
      ]
     },
     "execution_count": 12,
     "metadata": {},
     "output_type": "execute_result"
    }
   ],
   "source": [
    "data = {'country':['aaa','bbb','ccc'],'population':[10,12,14]}\n",
    "df_data = pd.DataFrame(data)\n",
    "df_data"
   ]
  },
  {
   "cell_type": "code",
   "execution_count": 13,
   "id": "37274d32",
   "metadata": {},
   "outputs": [
    {
     "name": "stdout",
     "output_type": "stream",
     "text": [
      "<class 'pandas.core.frame.DataFrame'>\n",
      "RangeIndex: 3 entries, 0 to 2\n",
      "Data columns (total 2 columns):\n",
      " #   Column      Non-Null Count  Dtype \n",
      "---  ------      --------------  ----- \n",
      " 0   country     3 non-null      object\n",
      " 1   population  3 non-null      int64 \n",
      "dtypes: int64(1), object(1)\n",
      "memory usage: 176.0+ bytes\n"
     ]
    }
   ],
   "source": [
    "df_data.info()"
   ]
  },
  {
   "cell_type": "markdown",
   "id": "3be00133",
   "metadata": {},
   "source": [
    "取指定的数据 "
   ]
  },
  {
   "cell_type": "code",
   "execution_count": 14,
   "id": "86e91b8e",
   "metadata": {},
   "outputs": [
    {
     "data": {
      "text/plain": [
       "0    193\n",
       "1    254\n",
       "2    185\n",
       "3    254\n",
       "4    191\n",
       "Name: Passengers, dtype: int64"
      ]
     },
     "execution_count": 14,
     "metadata": {},
     "output_type": "execute_result"
    }
   ],
   "source": [
    "passengers = df['Passengers']\n",
    "passengers[:5]"
   ]
  },
  {
   "cell_type": "markdown",
   "id": "fbc26861",
   "metadata": {},
   "source": [
    "1.NaN-not a number\n",
    "2.series:dataframe中的一列或一行"
   ]
  },
  {
   "cell_type": "code",
   "execution_count": 15,
   "id": "4b962141",
   "metadata": {},
   "outputs": [
    {
     "data": {
      "text/plain": [
       "array([193, 254, 185, 254, 191], dtype=int64)"
      ]
     },
     "execution_count": 15,
     "metadata": {},
     "output_type": "execute_result"
    }
   ],
   "source": [
    "passengers.values[:5]"
   ]
  },
  {
   "cell_type": "code",
   "execution_count": 16,
   "id": "dc8202d5",
   "metadata": {},
   "outputs": [
    {
     "data": {
      "text/html": [
       "<div>\n",
       "<style scoped>\n",
       "    .dataframe tbody tr th:only-of-type {\n",
       "        vertical-align: middle;\n",
       "    }\n",
       "\n",
       "    .dataframe tbody tr th {\n",
       "        vertical-align: top;\n",
       "    }\n",
       "\n",
       "    .dataframe thead th {\n",
       "        text-align: right;\n",
       "    }\n",
       "</style>\n",
       "<table border=\"1\" class=\"dataframe\">\n",
       "  <thead>\n",
       "    <tr style=\"text-align: right;\">\n",
       "      <th></th>\n",
       "      <th>Week</th>\n",
       "      <th>Airports</th>\n",
       "      <th>Class</th>\n",
       "      <th>Passengers</th>\n",
       "    </tr>\n",
       "  </thead>\n",
       "  <tbody>\n",
       "    <tr>\n",
       "      <th>0</th>\n",
       "      <td>1989 W28</td>\n",
       "      <td>ADL-PER</td>\n",
       "      <td>Business</td>\n",
       "      <td>193</td>\n",
       "    </tr>\n",
       "    <tr>\n",
       "      <th>1</th>\n",
       "      <td>1989 W29</td>\n",
       "      <td>ADL-PER</td>\n",
       "      <td>Business</td>\n",
       "      <td>254</td>\n",
       "    </tr>\n",
       "    <tr>\n",
       "      <th>2</th>\n",
       "      <td>1989 W30</td>\n",
       "      <td>ADL-PER</td>\n",
       "      <td>Business</td>\n",
       "      <td>185</td>\n",
       "    </tr>\n",
       "    <tr>\n",
       "      <th>3</th>\n",
       "      <td>1989 W31</td>\n",
       "      <td>ADL-PER</td>\n",
       "      <td>Business</td>\n",
       "      <td>254</td>\n",
       "    </tr>\n",
       "    <tr>\n",
       "      <th>4</th>\n",
       "      <td>1989 W32</td>\n",
       "      <td>ADL-PER</td>\n",
       "      <td>Business</td>\n",
       "      <td>191</td>\n",
       "    </tr>\n",
       "  </tbody>\n",
       "</table>\n",
       "</div>"
      ],
      "text/plain": [
       "       Week Airports     Class  Passengers\n",
       "0  1989 W28  ADL-PER  Business         193\n",
       "1  1989 W29  ADL-PER  Business         254\n",
       "2  1989 W30  ADL-PER  Business         185\n",
       "3  1989 W31  ADL-PER  Business         254\n",
       "4  1989 W32  ADL-PER  Business         191"
      ]
     },
     "execution_count": 16,
     "metadata": {},
     "output_type": "execute_result"
    }
   ],
   "source": [
    "df.head()"
   ]
  },
  {
   "cell_type": "code",
   "execution_count": 17,
   "id": "5e8075d4",
   "metadata": {},
   "outputs": [
    {
     "data": {
      "text/plain": [
       "0    193\n",
       "1    254\n",
       "2    185\n",
       "3    254\n",
       "4    191\n",
       "Name: Passengers, dtype: int64"
      ]
     },
     "execution_count": 17,
     "metadata": {},
     "output_type": "execute_result"
    }
   ],
   "source": [
    "df['Passengers'][:5]"
   ]
  },
  {
   "cell_type": "markdown",
   "id": "2793556e",
   "metadata": {},
   "source": [
    "索引我们可以自己指定"
   ]
  },
  {
   "cell_type": "code",
   "execution_count": null,
   "id": "2437ff2a",
   "metadata": {},
   "outputs": [],
   "source": [
    "df = df.set_index('Week')\n",
    "df.head()"
   ]
  },
  {
   "cell_type": "code",
   "execution_count": null,
   "id": "73da2fba",
   "metadata": {},
   "outputs": [],
   "source": [
    "df['Passengers'][:5]"
   ]
  },
  {
   "cell_type": "code",
   "execution_count": null,
   "id": "29179fa8",
   "metadata": {},
   "outputs": [],
   "source": [
    "passengers = df['Passengers']\n",
    "passengers"
   ]
  },
  {
   "cell_type": "code",
   "execution_count": null,
   "id": "cd81474e",
   "metadata": {},
   "outputs": [],
   "source": [
    "passengers['1989 W28']"
   ]
  },
  {
   "cell_type": "code",
   "execution_count": null,
   "id": "957bf1e6",
   "metadata": {},
   "outputs": [],
   "source": [
    " passengers = passengers + 10#记得要重新赋值,+-*/运算都可以直接进行\n",
    " passengers[:5]   "
   ]
  },
  {
   "cell_type": "code",
   "execution_count": null,
   "id": "d77ef493",
   "metadata": {},
   "outputs": [],
   "source": [
    "passengers.mean()"
   ]
  },
  {
   "cell_type": "code",
   "execution_count": null,
   "id": "2b7f34f2",
   "metadata": {},
   "outputs": [],
   "source": [
    "passengers.max()"
   ]
  },
  {
   "cell_type": "code",
   "execution_count": null,
   "id": "59f1a063",
   "metadata": {},
   "outputs": [],
   "source": [
    "passengers.min()"
   ]
  },
  {
   "cell_type": "code",
   "execution_count": null,
   "id": "47f4e3ad",
   "metadata": {},
   "outputs": [],
   "source": [
    "df.describe()#显示所有的数值列的基本统计特性，count-显示列里面未缺失的样本，std-标准差 "
   ]
  },
  {
   "cell_type": "markdown",
   "id": "efd17170",
   "metadata": {},
   "source": [
    "Pandas的索引结构"
   ]
  },
  {
   "cell_type": "code",
   "execution_count": null,
   "id": "3c691124",
   "metadata": {},
   "outputs": [],
   "source": [
    "df.head()"
   ]
  },
  {
   "cell_type": "code",
   "execution_count": null,
   "id": "270f7117",
   "metadata": {},
   "outputs": [],
   "source": [
    "df[['Airports','Passengers']][:5]#写两个记得得写成一个整体"
   ]
  },
  {
   "cell_type": "markdown",
   "id": "ed259bf1",
   "metadata": {},
   "source": [
    "*loc 用label去定位\n",
    "*iloc 用postion去定位                                       "
   ]
  },
  {
   "cell_type": "code",
   "execution_count": null,
   "id": "e01c4e4f",
   "metadata": {},
   "outputs": [],
   "source": [
    "df.iloc[0:6,1:3]#前6行数据，第1列-第三列"
   ]
  },
  {
   "cell_type": "code",
   "execution_count": null,
   "id": "05a2e20e",
   "metadata": {},
   "outputs": [],
   "source": [
    "df = df.set_index('Week')\n",
    "df.head()"
   ]
  },
  {
   "cell_type": "code",
   "execution_count": null,
   "id": "c0d1a2eb",
   "metadata": {},
   "outputs": [],
   "source": [
    "df.loc['1989 W29']"
   ]
  },
  {
   "cell_type": "code",
   "execution_count": null,
   "id": "8be4da19",
   "metadata": {},
   "outputs": [],
   "source": [
    "df.loc['1989 W29','Passengers']"
   ]
  },
  {
   "cell_type": "code",
   "execution_count": null,
   "id": "51e94d6e",
   "metadata": {},
   "outputs": [],
   "source": [
    "#df.loc['1989 W29':'1989 W30',:]#通过索引找位置"
   ]
  },
  {
   "cell_type": "code",
   "execution_count": null,
   "id": "66af5617",
   "metadata": {},
   "outputs": [],
   "source": [
    "df.loc['1989 W29','Passengers'] = 1000#直接赋值操作\n",
    "df.head()"
   ]
  },
  {
   "cell_type": "markdown",
   "id": "6121272f",
   "metadata": {},
   "source": [
    "## bool类型的索引"
   ]
  },
  {
   "cell_type": "code",
   "execution_count": null,
   "id": "b68be405",
   "metadata": {},
   "outputs": [],
   "source": [
    "df['Passengers']>500"
   ]
  },
  {
   "cell_type": "code",
   "execution_count": null,
   "id": "022ea91d",
   "metadata": {},
   "outputs": [],
   "source": [
    "df[df['Passengers']>500][:5]"
   ]
  },
  {
   "cell_type": "code",
   "execution_count": null,
   "id": "90be3416",
   "metadata": {},
   "outputs": [],
   "source": [
    "df[df['Airports'] == 'ADL-PER'][:5]"
   ]
  },
  {
   "cell_type": "code",
   "execution_count": null,
   "id": "91b741ed",
   "metadata": {},
   "outputs": [],
   "source": [
    "df.loc[df['Airports'] == 'ADL-PER','Passengers']"
   ]
  },
  {
   "cell_type": "code",
   "execution_count": null,
   "id": "8cc08584",
   "metadata": {},
   "outputs": [],
   "source": [
    "df.loc[df['Airports'] == 'ADL-PER','Passengers'].mean()#用bool类型当索引，定位再进行统计特性"
   ]
  },
  {
   "cell_type": "code",
   "execution_count": null,
   "id": "870f1529",
   "metadata": {},
   "outputs": [],
   "source": [
    "(df['Passengers'] > 1000).sum()#乘客大于1000人的总人数"
   ]
  },
  {
   "cell_type": "markdown",
   "id": "5bcade69",
   "metadata": {},
   "source": [
    "## groupby操作"
   ]
  },
  {
   "cell_type": "code",
   "execution_count": null,
   "id": "5b097908",
   "metadata": {},
   "outputs": [],
   "source": [
    "import pandas as pd\n",
    "df = pd.DataFrame({'key':['A','B','C','A','B','C','A','B','C'],'data':[0,5,10,5,10,15,10,15,20]})\n",
    "df"
   ]
  },
  {
   "cell_type": "code",
   "execution_count": null,
   "id": "6314a2c5",
   "metadata": {},
   "outputs": [],
   "source": [
    "#ABC三个品牌分别的销售额的统计\n",
    "for key in['A','B','C']:\n",
    "    print(key,df[df['key']== key].sum())"
   ]
  },
  {
   "cell_type": "code",
   "execution_count": null,
   "id": "03e18d51",
   "metadata": {},
   "outputs": [],
   "source": [
    "df.groupby('key').sum()"
   ]
  },
  {
   "cell_type": "code",
   "execution_count": null,
   "id": "eefe0b55",
   "metadata": {},
   "outputs": [],
   "source": [
    "#numpy结合groupby的操作\n",
    "import numpy as np"
   ]
  },
  {
   "cell_type": "code",
   "execution_count": null,
   "id": "602a0fec",
   "metadata": {},
   "outputs": [],
   "source": [
    "df.groupby('key').aggregate(np.mean)"
   ]
  },
  {
   "cell_type": "code",
   "execution_count": null,
   "id": "2f47162d",
   "metadata": {},
   "outputs": [],
   "source": [
    "import pandas as pd"
   ]
  },
  {
   "cell_type": "code",
   "execution_count": null,
   "id": "a6d32073",
   "metadata": {},
   "outputs": [],
   "source": [
    "df = pd.read_csv('D:/Temp/BI.LAB3/ansett.csv')\n",
    "df"
   ]
  },
  {
   "cell_type": "code",
   "execution_count": null,
   "id": "10c3da90",
   "metadata": {},
   "outputs": [],
   "source": [
    "df.groupby('Airports')['Passengers'].mean()#计算不同机场乘客的均值"
   ]
  },
  {
   "cell_type": "markdown",
   "id": "86db34c0",
   "metadata": {},
   "source": [
    "## 数值运算"
   ]
  },
  {
   "cell_type": "code",
   "execution_count": null,
   "id": "ba31dedd",
   "metadata": {},
   "outputs": [],
   "source": [
    "import pandas as pd"
   ]
  },
  {
   "cell_type": "code",
   "execution_count": null,
   "id": "72a23f4c",
   "metadata": {},
   "outputs": [],
   "source": [
    "df = pd.DataFrame([[1,2,3],[4,5,6]],index = ['a','b'],columns = ['A','B','C'])\n",
    "df"
   ]
  },
  {
   "cell_type": "code",
   "execution_count": null,
   "id": "6f8e1fd1",
   "metadata": {},
   "outputs": [],
   "source": [
    "df.sum()#默认按照列来求和"
   ]
  },
  {
   "cell_type": "code",
   "execution_count": null,
   "id": "13822fd6",
   "metadata": {},
   "outputs": [],
   "source": [
    "df.sum(axis=0)#按列求和"
   ]
  },
  {
   "cell_type": "code",
   "execution_count": null,
   "id": "800d8569",
   "metadata": {},
   "outputs": [],
   "source": [
    "df.sum(axis=1)#按行求和"
   ]
  },
  {
   "cell_type": "code",
   "execution_count": null,
   "id": "cd8c6e0b",
   "metadata": {},
   "outputs": [],
   "source": [
    "df.sum(axis = 'columns')"
   ]
  },
  {
   "cell_type": "code",
   "execution_count": null,
   "id": "bf953ece",
   "metadata": {},
   "outputs": [],
   "source": [
    "df.mean()"
   ]
  },
  {
   "cell_type": "code",
   "execution_count": null,
   "id": "2ff1462a",
   "metadata": {},
   "outputs": [],
   "source": [
    "df.mean('columns')"
   ]
  },
  {
   "cell_type": "code",
   "execution_count": null,
   "id": "7c013c13",
   "metadata": {},
   "outputs": [],
   "source": [
    "df.mean(axis=1)"
   ]
  },
  {
   "cell_type": "code",
   "execution_count": null,
   "id": "4eb233a6",
   "metadata": {},
   "outputs": [],
   "source": [
    "df.min()"
   ]
  },
  {
   "cell_type": "code",
   "execution_count": null,
   "id": "67235de7",
   "metadata": {},
   "outputs": [],
   "source": [
    "df.max()"
   ]
  },
  {
   "cell_type": "code",
   "execution_count": null,
   "id": "c93c6f3c",
   "metadata": {},
   "outputs": [],
   "source": [
    "df.median()#中位数"
   ]
  },
  {
   "cell_type": "markdown",
   "id": "ea393e88",
   "metadata": {},
   "source": [
    "## 二元统计"
   ]
  },
  {
   "cell_type": "code",
   "execution_count": null,
   "id": "32428f7f",
   "metadata": {},
   "outputs": [],
   "source": [
    "import pandas as pd \n",
    "df = pd.read_csv('D:/Temp/BI.LAB3/ansett.csv')\n",
    "df"
   ]
  },
  {
   "cell_type": "code",
   "execution_count": null,
   "id": "c2f5c53e",
   "metadata": {},
   "outputs": [],
   "source": [
    "df.cov()#协方差"
   ]
  },
  {
   "cell_type": "code",
   "execution_count": null,
   "id": "86318354",
   "metadata": {},
   "outputs": [],
   "source": [
    "df.corr()#相关系数"
   ]
  },
  {
   "cell_type": "code",
   "execution_count": null,
   "id": "1404d41c",
   "metadata": {},
   "outputs": [],
   "source": [
    "df.info()"
   ]
  },
  {
   "cell_type": "code",
   "execution_count": null,
   "id": "b5d619e7",
   "metadata": {},
   "outputs": [],
   "source": [
    "df['Passengers'].value_counts()#默认降序"
   ]
  },
  {
   "cell_type": "code",
   "execution_count": null,
   "id": "e2f42099",
   "metadata": {},
   "outputs": [],
   "source": [
    "df['Passengers'].value_counts(ascending = True)#改为升序"
   ]
  },
  {
   "cell_type": "code",
   "execution_count": null,
   "id": "2daeeb2c",
   "metadata": {},
   "outputs": [],
   "source": [
    "df['Passengers'].value_counts(ascending = True, bins = 5)#bins=5产生5个分组"
   ]
  },
  {
   "cell_type": "code",
   "execution_count": null,
   "id": "a9d824d0",
   "metadata": {},
   "outputs": [],
   "source": [
    "df['Passengers'].count()#统计passengers这一列的元素的个数"
   ]
  },
  {
   "cell_type": "code",
   "execution_count": null,
   "id": "5e4d05f6",
   "metadata": {},
   "outputs": [],
   "source": [
    "df['Week'].count()|"
   ]
  },
  {
   "cell_type": "code",
   "execution_count": null,
   "id": "50779195",
   "metadata": {},
   "outputs": [],
   "source": [
    "print (help(pd.value_counts))#调用语句的用法"
   ]
  },
  {
   "cell_type": "markdown",
   "id": "e9904799",
   "metadata": {},
   "source": [
    "## 对象操作-Series结构的增删改查"
   ]
  },
  {
   "cell_type": "code",
   "execution_count": null,
   "id": "0df7e4b8",
   "metadata": {},
   "outputs": [],
   "source": [
    "import pandas as pd"
   ]
  },
  {
   "cell_type": "code",
   "execution_count": null,
   "id": "a2b76ba1",
   "metadata": {},
   "outputs": [],
   "source": [
    "data = [10,11,12]\n",
    "index = ['a','b','c']\n",
    "s = pd.Series(data = data,index =index)\n",
    "s"
   ]
  },
  {
   "cell_type": "code",
   "execution_count": null,
   "id": "7f2e90d3",
   "metadata": {},
   "outputs": [],
   "source": [
    "s[0:2]#切片操作，索引为和的元素"
   ]
  },
  {
   "cell_type": "code",
   "execution_count": null,
   "id": "a547ce35",
   "metadata": {},
   "outputs": [],
   "source": [
    "mask = [True,False,True]#只打印为true的行，其他值隐藏\n",
    "s[mask]"
   ]
  },
  {
   "cell_type": "markdown",
   "id": "24465b60",
   "metadata": {},
   "source": [
    "## Series结构的查询操作"
   ]
  },
  {
   "cell_type": "code",
   "execution_count": null,
   "id": "1db34b5c",
   "metadata": {},
   "outputs": [],
   "source": [
    "s.loc['a']"
   ]
  },
  {
   "cell_type": "code",
   "execution_count": null,
   "id": "7128c56d",
   "metadata": {},
   "outputs": [],
   "source": [
    "s.iloc[1]"
   ]
  },
  {
   "cell_type": "markdown",
   "id": "58e00079",
   "metadata": {},
   "source": [
    "## Series结构的改操作"
   ]
  },
  {
   "cell_type": "code",
   "execution_count": null,
   "id": "8dd736b6",
   "metadata": {},
   "outputs": [],
   "source": [
    "#copy改value\n",
    "s1 = s.copy()\n",
    "s1['a'] = 100\n",
    "s1"
   ]
  },
  {
   "cell_type": "code",
   "execution_count": null,
   "id": "40a29dd7",
   "metadata": {},
   "outputs": [],
   "source": [
    "#replace改value\n",
    "s1.replace(to_replace = 100, value =101, inplace =False)#因为inplace=False,此时S1中的value依然为100,不会在原地更改值"
   ]
  },
  {
   "cell_type": "code",
   "execution_count": null,
   "id": "30fe4bdb",
   "metadata": {},
   "outputs": [],
   "source": [
    "s1#因为inplace=False,此时S1中的value依然为100,不会在原地更改值"
   ]
  },
  {
   "cell_type": "code",
   "execution_count": null,
   "id": "a476405d",
   "metadata": {},
   "outputs": [],
   "source": [
    "#直接赋值更改索引\n",
    "s1.index = ['a','b','d']\n",
    "s1"
   ]
  },
  {
   "cell_type": "code",
   "execution_count": null,
   "id": "b8067d4a",
   "metadata": {},
   "outputs": [],
   "source": [
    "#rename+字典结构 谁想要改成谁 -更改索引\n",
    "s1.rename(index = {'a':'A'},inplace =True)\n",
    "s1"
   ]
  },
  {
   "cell_type": "code",
   "execution_count": null,
   "id": "a55acaac",
   "metadata": {},
   "outputs": [],
   "source": [
    "s1"
   ]
  },
  {
   "cell_type": "markdown",
   "id": "936d9c02",
   "metadata": {},
   "source": [
    "## Series结构的增加操作"
   ]
  },
  {
   "cell_type": "code",
   "execution_count": null,
   "id": "98aa8f4c",
   "metadata": {},
   "outputs": [],
   "source": [
    "import pandas as pd"
   ]
  },
  {
   "cell_type": "code",
   "execution_count": null,
   "id": "c4144aa9",
   "metadata": {},
   "outputs": [],
   "source": [
    "data = [100,101]\n",
    "index =['h','g']\n",
    "s2 = pd.Series(data = data, index =index)\n",
    "s2"
   ]
  },
  {
   "cell_type": "code",
   "execution_count": null,
   "id": "a1df4104",
   "metadata": {},
   "outputs": [],
   "source": [
    "s3 =s1.append(s2)\n",
    "s3"
   ]
  },
  {
   "cell_type": "code",
   "execution_count": null,
   "id": "4acf8155",
   "metadata": {},
   "outputs": [],
   "source": [
    "s3['j']=500\n",
    "s3"
   ]
  },
  {
   "cell_type": "code",
   "execution_count": null,
   "id": "e6606fd4",
   "metadata": {},
   "outputs": [],
   "source": [
    "s1.append(s2,ignore_index=False)#不会生成新索引"
   ]
  },
  {
   "cell_type": "code",
   "execution_count": null,
   "id": "5c77edea",
   "metadata": {},
   "outputs": [],
   "source": [
    "s1.append(s2,ignore_index=True)#生成了新索引"
   ]
  },
  {
   "cell_type": "markdown",
   "id": "748f010a",
   "metadata": {},
   "source": [
    "## 删除操作"
   ]
  },
  {
   "cell_type": "code",
   "execution_count": 2,
   "id": "4fd4bf71",
   "metadata": {},
   "outputs": [],
   "source": [
    "import pandas as pd"
   ]
  },
  {
   "cell_type": "markdown",
   "id": "c0636019",
   "metadata": {},
   "source": [
    "## Series结构的删操作"
   ]
  },
  {
   "cell_type": "code",
   "execution_count": null,
   "id": "1f1e464e",
   "metadata": {},
   "outputs": [],
   "source": [
    "data = [10,11,12,89]\n",
    "index = ['a','b','c','d']\n",
    "s1 = pd.Series(data = data,index =index)\n",
    "s1"
   ]
  },
  {
   "cell_type": "code",
   "execution_count": null,
   "id": "baaf0ad0",
   "metadata": {},
   "outputs": [],
   "source": [
    "#删除一行\n",
    "del s1['a']\n",
    "s1"
   ]
  },
  {
   "cell_type": "code",
   "execution_count": null,
   "id": "5b4a3314",
   "metadata": {},
   "outputs": [],
   "source": [
    "#删除多行\n",
    "s1.drop(['b','d'],inplace = True)\n",
    "s1"
   ]
  },
  {
   "cell_type": "markdown",
   "id": "4b39dd76",
   "metadata": {},
   "source": [
    "## DataFrame结构的增删改查"
   ]
  },
  {
   "cell_type": "code",
   "execution_count": 3,
   "id": "c772e8c6",
   "metadata": {},
   "outputs": [
    {
     "data": {
      "text/html": [
       "<div>\n",
       "<style scoped>\n",
       "    .dataframe tbody tr th:only-of-type {\n",
       "        vertical-align: middle;\n",
       "    }\n",
       "\n",
       "    .dataframe tbody tr th {\n",
       "        vertical-align: top;\n",
       "    }\n",
       "\n",
       "    .dataframe thead th {\n",
       "        text-align: right;\n",
       "    }\n",
       "</style>\n",
       "<table border=\"1\" class=\"dataframe\">\n",
       "  <thead>\n",
       "    <tr style=\"text-align: right;\">\n",
       "      <th></th>\n",
       "      <th>A</th>\n",
       "      <th>B</th>\n",
       "      <th>C</th>\n",
       "    </tr>\n",
       "  </thead>\n",
       "  <tbody>\n",
       "    <tr>\n",
       "      <th>a</th>\n",
       "      <td>1</td>\n",
       "      <td>2</td>\n",
       "      <td>3</td>\n",
       "    </tr>\n",
       "    <tr>\n",
       "      <th>b</th>\n",
       "      <td>4</td>\n",
       "      <td>5</td>\n",
       "      <td>6</td>\n",
       "    </tr>\n",
       "  </tbody>\n",
       "</table>\n",
       "</div>"
      ],
      "text/plain": [
       "   A  B  C\n",
       "a  1  2  3\n",
       "b  4  5  6"
      ]
     },
     "execution_count": 3,
     "metadata": {},
     "output_type": "execute_result"
    }
   ],
   "source": [
    "data =[[1,2,3],[4,5,6]]\n",
    "index = ['a','b']\n",
    "columns = ['A','B','C']\n",
    "df = pd.DataFrame(data = data, index = index, columns = columns)\n",
    "df"
   ]
  },
  {
   "cell_type": "markdown",
   "id": "0a7b5219",
   "metadata": {},
   "source": [
    "## DataFrame结构的查询操作-两者类似"
   ]
  },
  {
   "cell_type": "code",
   "execution_count": 4,
   "id": "26af5dee",
   "metadata": {},
   "outputs": [
    {
     "data": {
      "text/plain": [
       "a    1\n",
       "b    4\n",
       "Name: A, dtype: int64"
      ]
     },
     "execution_count": 4,
     "metadata": {},
     "output_type": "execute_result"
    }
   ],
   "source": [
    "#查询其中一列\n",
    "df['A']"
   ]
  },
  {
   "cell_type": "code",
   "execution_count": null,
   "id": "6a39ffc1",
   "metadata": {},
   "outputs": [],
   "source": [
    "df.iloc[0]"
   ]
  },
  {
   "cell_type": "code",
   "execution_count": 5,
   "id": "56bffdfe",
   "metadata": {},
   "outputs": [
    {
     "data": {
      "text/plain": [
       "A    1\n",
       "B    2\n",
       "C    3\n",
       "Name: a, dtype: int64"
      ]
     },
     "execution_count": 5,
     "metadata": {},
     "output_type": "execute_result"
    }
   ],
   "source": [
    "df.loc['a']"
   ]
  },
  {
   "cell_type": "markdown",
   "id": "095af872",
   "metadata": {},
   "source": [
    "## DataFrame结构的改操作 "
   ]
  },
  {
   "cell_type": "code",
   "execution_count": null,
   "id": "232fe3af",
   "metadata": {},
   "outputs": [],
   "source": [
    "df.loc['a']['A']"
   ]
  },
  {
   "cell_type": "code",
   "execution_count": null,
   "id": "66640ab7",
   "metadata": {},
   "outputs": [],
   "source": [
    "df.loc['a']['A'] = 200;#直接在原表修改\n",
    "df"
   ]
  },
  {
   "cell_type": "code",
   "execution_count": null,
   "id": "efaf75d8",
   "metadata": {},
   "outputs": [],
   "source": [
    "df.index = ['f','g']\n",
    "df"
   ]
  },
  {
   "cell_type": "markdown",
   "id": "b0304b6a",
   "metadata": {},
   "source": [
    "## DataFrame结构的增操作"
   ]
  },
  {
   "cell_type": "code",
   "execution_count": null,
   "id": "fa494333",
   "metadata": {},
   "outputs": [],
   "source": [
    "df.loc['c']=[1,2,3]#增加单行数据\n",
    "df"
   ]
  },
  {
   "cell_type": "code",
   "execution_count": null,
   "id": "ad9184ed",
   "metadata": {},
   "outputs": [],
   "source": [
    "data =[[1,2,3],[4,5,6]]\n",
    "index = ['j','k']\n",
    "columns = ['A','B','C']\n",
    "df2 = pd.DataFrame(data = data, index = index, columns = columns)\n",
    "df2"
   ]
  },
  {
   "cell_type": "code",
   "execution_count": null,
   "id": "bc3bb834",
   "metadata": {},
   "outputs": [],
   "source": [
    "df3 = pd.concat([df,df2])#连接两个不同的数据表\n",
    "df3"
   ]
  },
  {
   "cell_type": "code",
   "execution_count": null,
   "id": "00f95f69",
   "metadata": {},
   "outputs": [],
   "source": [
    "df3 = pd.concat([df,df2],axis = 0)#增行操作\n",
    "df3"
   ]
  },
  {
   "cell_type": "code",
   "execution_count": null,
   "id": "8c75fa7c",
   "metadata": {},
   "outputs": [],
   "source": [
    "df3 = pd.concat([df,df2],axis = 1)#增列操作\n",
    "df3"
   ]
  },
  {
   "cell_type": "code",
   "execution_count": null,
   "id": "b8b3a61e",
   "metadata": {},
   "outputs": [],
   "source": [
    "df2['Tang']=[10,11]#增加单列数据\n",
    "df2"
   ]
  },
  {
   "cell_type": "code",
   "execution_count": null,
   "id": "be1c5d51",
   "metadata": {},
   "outputs": [],
   "source": [
    "df4 = pd.DataFrame([[10,11],[12,13]],index = ['j','k'],columns =['D','E'])\n",
    "df4"
   ]
  },
  {
   "cell_type": "code",
   "execution_count": null,
   "id": "95ab71a8",
   "metadata": {},
   "outputs": [],
   "source": [
    "df5 = pd.concat([df2,df4],axis = 1)\n",
    "df5"
   ]
  },
  {
   "cell_type": "markdown",
   "id": "cfa5f3d1",
   "metadata": {},
   "source": [
    "## 删操操作"
   ]
  },
  {
   "cell_type": "code",
   "execution_count": null,
   "id": "63ed9048",
   "metadata": {},
   "outputs": [],
   "source": [
    "df5.drop(['j'],axis = 0,inplace = True)#drop记得要指定inplace值\n",
    "df5"
   ]
  },
  {
   "cell_type": "code",
   "execution_count": null,
   "id": "4c49682f",
   "metadata": {},
   "outputs": [],
   "source": [
    "del df5['Tang']\n",
    "df5"
   ]
  },
  {
   "cell_type": "code",
   "execution_count": null,
   "id": "6e8d4dd0",
   "metadata": {},
   "outputs": [],
   "source": [
    "df5.drop(['A','B','C'],axis = 1,inplace = True)\n",
    "df5"
   ]
  },
  {
   "cell_type": "markdown",
   "id": "77e2a03f",
   "metadata": {},
   "source": [
    "## merge操作-合并操作"
   ]
  },
  {
   "cell_type": "code",
   "execution_count": null,
   "id": "9aa4307f",
   "metadata": {},
   "outputs": [],
   "source": [
    "import pandas as pd"
   ]
  },
  {
   "cell_type": "code",
   "execution_count": null,
   "id": "8d9e459b",
   "metadata": {},
   "outputs": [],
   "source": [
    "left = pd.DataFrame({'key':['K0','K1','K2','K3'],'A':['A0','A1','A2','A3'],'B':['B0','B1','B2','B3']})\n",
    "right = pd.DataFrame({'key':['K0','K1','K2','K3'],'C':['C0','C1','C2','C3'],'D':['D0','D1','D2','D3']})"
   ]
  },
  {
   "cell_type": "code",
   "execution_count": null,
   "id": "5232fcd9",
   "metadata": {},
   "outputs": [],
   "source": [
    "left"
   ]
  },
  {
   "cell_type": "code",
   "execution_count": null,
   "id": "9619bbe0",
   "metadata": {},
   "outputs": [],
   "source": [
    "right"
   ]
  },
  {
   "cell_type": "code",
   "execution_count": null,
   "id": "b7c45947",
   "metadata": {},
   "outputs": [],
   "source": [
    "pd.merge(left,right)"
   ]
  },
  {
   "cell_type": "code",
   "execution_count": null,
   "id": "cf3728b1",
   "metadata": {},
   "outputs": [],
   "source": [
    "#优化写法\n",
    "pd.merge(left,right,on = 'key')#on代表以什么键进行合并"
   ]
  },
  {
   "cell_type": "code",
   "execution_count": null,
   "id": "51a644c2",
   "metadata": {},
   "outputs": [],
   "source": [
    "left = pd.DataFrame({'key1':['K0','K1','K2','K3'],'key2':['K0','K1','K2','K3'],'A':['A0','A1','A2','A3'],'B':['B0','B1','B2','B3']})\n",
    "right = pd.DataFrame({'key1':['K0','K1','K2','K3'],'key2':['K0','K1','K2','K4'],'C':['C0','C1','C2','C3'],'D':['D0','D1','D2','D3']})"
   ]
  },
  {
   "cell_type": "code",
   "execution_count": null,
   "id": "10ffb04c",
   "metadata": {},
   "outputs": [],
   "source": [
    "left"
   ]
  },
  {
   "cell_type": "code",
   "execution_count": null,
   "id": "dc90416e",
   "metadata": {},
   "outputs": [],
   "source": [
    "right"
   ]
  },
  {
   "cell_type": "code",
   "execution_count": null,
   "id": "0260d191",
   "metadata": {},
   "outputs": [],
   "source": [
    "pd.merge(left,right,on = 'key1')#看到_x和_y，说明有重复的关键字"
   ]
  },
  {
   "cell_type": "code",
   "execution_count": null,
   "id": "afe33904",
   "metadata": {},
   "outputs": [],
   "source": [
    "pd.merge(left,right,on =[ 'key1','key2'])#指定多个key，不一样的元素会被过滤，只会保留相同的元素"
   ]
  },
  {
   "cell_type": "code",
   "execution_count": null,
   "id": "0f494c0d",
   "metadata": {},
   "outputs": [],
   "source": [
    "pd.merge(left,right,on =[ 'key1','key2'],how = 'outer')#outer说明指定一个并集（默认为交集）"
   ]
  },
  {
   "cell_type": "code",
   "execution_count": null,
   "id": "67cdb3ab",
   "metadata": {},
   "outputs": [],
   "source": [
    "pd.merge(left,right,on =[ 'key1','key2'],how = 'outer',indicator = True)#indicatior会指示是并集还是交集"
   ]
  },
  {
   "cell_type": "code",
   "execution_count": null,
   "id": "69fe66e2",
   "metadata": {},
   "outputs": [],
   "source": [
    "pd.merge(left,right,on =[ 'key1','key2'],how = 'left')#这里标识以左表为基准，保留K3"
   ]
  },
  {
   "cell_type": "markdown",
   "id": "546bda09",
   "metadata": {},
   "source": [
    "## Pandas显示设置"
   ]
  },
  {
   "cell_type": "code",
   "execution_count": null,
   "id": "2005d83b",
   "metadata": {},
   "outputs": [],
   "source": [
    "import pandas as pd"
   ]
  },
  {
   "cell_type": "code",
   "execution_count": null,
   "id": "13b4bae2",
   "metadata": {
    "scrolled": true
   },
   "outputs": [],
   "source": [
    "pd.get_option('display.max_rows')"
   ]
  },
  {
   "cell_type": "code",
   "execution_count": null,
   "id": "fcd79137",
   "metadata": {},
   "outputs": [],
   "source": [
    "pd.set_option('display.max_rows',100)#设置最多打印100行"
   ]
  },
  {
   "cell_type": "code",
   "execution_count": null,
   "id": "24465e51",
   "metadata": {},
   "outputs": [],
   "source": [
    "pd.Series(index=range(0,100))"
   ]
  },
  {
   "cell_type": "code",
   "execution_count": null,
   "id": "4473b465",
   "metadata": {},
   "outputs": [],
   "source": [
    "pd.get_option('display.max_columns')"
   ]
  },
  {
   "cell_type": "code",
   "execution_count": null,
   "id": "00615440",
   "metadata": {},
   "outputs": [],
   "source": [
    "pd.set_option('display.max_columns',30)#设置最多打印30列"
   ]
  },
  {
   "cell_type": "code",
   "execution_count": null,
   "id": "e646e447",
   "metadata": {},
   "outputs": [],
   "source": [
    "pd.DataFrame(columns =range(0,30))"
   ]
  },
  {
   "cell_type": "code",
   "execution_count": null,
   "id": "69a4fbf2",
   "metadata": {},
   "outputs": [],
   "source": [
    "pd.get_option('display.max_colwidth')#默认字符串打印的最长长度"
   ]
  },
  {
   "cell_type": "code",
   "execution_count": null,
   "id": "d63d4228",
   "metadata": {},
   "outputs": [],
   "source": [
    "pd.set_option('display.max_colwidth',100)"
   ]
  },
  {
   "cell_type": "code",
   "execution_count": null,
   "id": "ebc5d62a",
   "metadata": {},
   "outputs": [],
   "source": [
    "pd.Series(index=['A'],data=['t'*70])"
   ]
  },
  {
   "cell_type": "code",
   "execution_count": null,
   "id": "c8039294",
   "metadata": {},
   "outputs": [],
   "source": [
    "pd.get_option('display.precision')#默认字符串打印的精度（小数点位数）"
   ]
  },
  {
   "cell_type": "code",
   "execution_count": null,
   "id": "e68dc812",
   "metadata": {},
   "outputs": [],
   "source": [
    "pd.set_option('display.precision',2)"
   ]
  },
  {
   "cell_type": "code",
   "execution_count": null,
   "id": "c1740719",
   "metadata": {},
   "outputs": [],
   "source": [
    "pd.Series(data=[1.2345679])"
   ]
  },
  {
   "cell_type": "code",
   "execution_count": null,
   "id": "2557052a",
   "metadata": {},
   "outputs": [],
   "source": [
    "pd.set_option('display.precision',5)\n",
    "pd.Series(data=[1.2345679])"
   ]
  }
 ],
 "metadata": {
  "kernelspec": {
   "display_name": "Python 3 (ipykernel)",
   "language": "python",
   "name": "python3"
  },
  "language_info": {
   "codemirror_mode": {
    "name": "ipython",
    "version": 3
   },
   "file_extension": ".py",
   "mimetype": "text/x-python",
   "name": "python",
   "nbconvert_exporter": "python",
   "pygments_lexer": "ipython3",
   "version": "3.9.7"
  }
 },
 "nbformat": 4,
 "nbformat_minor": 5
}
